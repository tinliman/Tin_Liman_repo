{
 "cells": [
  {
   "cell_type": "markdown",
   "metadata": {},
   "source": [
    "# python-practice\n",
    "\n",
    "Use the \"Run\" button to execute the code."
   ]
  },
  {
   "cell_type": "markdown",
   "metadata": {},
   "source": [
    "1. Puzzle Representation\n",
    "The first step for solving any real-world problem is to figure out the representation for the inputs and outputs of the problem. In this case, the input is an unsolved Sudoku puzzle and the output is the solved version of the input puzzles\n",
    "\n",
    "We'll use a list of lists of numbers to represent a Sudoku puzzle.\n",
    "\n",
    "\n",
    "Here's how we can represent the above puzzle:"
   ]
  },
  {
   "cell_type": "code",
   "execution_count": 3,
   "metadata": {},
   "outputs": [],
   "source": [
    "puzzle1 = [[5, 3, 0, 0, 7, 0, 0, 0, 0], \n",
    "           [6, 0, 0, 1, 9, 5, 0, 0, 0], \n",
    "           [0, 9, 8, 0, 0, 0, 0, 6, 0], \n",
    "           [8, 0, 0, 0, 6, 0, 0, 0, 3],\n",
    "           [4, 0, 0, 8, 0, 3, 0, 0, 1],\n",
    "           [7, 0, 0, 0, 2, 0, 0, 0, 6],\n",
    "           [0, 6, 0, 0, 0, 0, 2, 8, 0],\n",
    "           [0, 0, 0, 4, 1, 9, 0, 0, 5],\n",
    "           [0, 0, 0, 0, 8, 0, 0, 7, 9]]\n",
    "    "
   ]
  },
  {
   "cell_type": "code",
   "execution_count": 4,
   "metadata": {},
   "outputs": [
    {
     "data": {
      "text/plain": [
       "[[5, 3, 0, 0, 7, 0, 0, 0, 0],\n",
       " [6, 0, 0, 1, 9, 5, 0, 0, 0],\n",
       " [0, 9, 8, 0, 0, 0, 0, 6, 0],\n",
       " [8, 0, 0, 0, 6, 0, 0, 0, 3],\n",
       " [4, 0, 0, 8, 0, 3, 0, 0, 1],\n",
       " [7, 0, 0, 0, 2, 0, 0, 0, 6],\n",
       " [0, 6, 0, 0, 0, 0, 2, 8, 0],\n",
       " [0, 0, 0, 4, 1, 9, 0, 0, 5],\n",
       " [0, 0, 0, 0, 8, 0, 0, 7, 9]]"
      ]
     },
     "execution_count": 4,
     "metadata": {},
     "output_type": "execute_result"
    }
   ],
   "source": [
    "puzzle1"
   ]
  },
  {
   "cell_type": "code",
   "execution_count": 5,
   "metadata": {},
   "outputs": [
    {
     "data": {
      "text/plain": [
       "9"
      ]
     },
     "execution_count": 5,
     "metadata": {},
     "output_type": "execute_result"
    }
   ],
   "source": [
    "#Number of rows\n",
    "len(puzzle1)"
   ]
  },
  {
   "cell_type": "code",
   "execution_count": 6,
   "metadata": {},
   "outputs": [
    {
     "data": {
      "text/plain": [
       "9"
      ]
     },
     "execution_count": 6,
     "metadata": {},
     "output_type": "execute_result"
    }
   ],
   "source": [
    "#Number of elements in row[0]\n",
    "len(puzzle1[0])"
   ]
  },
  {
   "cell_type": "code",
   "execution_count": 7,
   "metadata": {},
   "outputs": [
    {
     "data": {
      "text/plain": [
       "[5, 3, 0, 0, 7, 0, 0, 0, 0]"
      ]
     },
     "execution_count": 7,
     "metadata": {},
     "output_type": "execute_result"
    }
   ],
   "source": [
    "#Row no.0\n",
    "puzzle1[0]"
   ]
  },
  {
   "cell_type": "code",
   "execution_count": 9,
   "metadata": {},
   "outputs": [
    {
     "data": {
      "text/plain": [
       "5"
      ]
     },
     "execution_count": 9,
     "metadata": {},
     "output_type": "execute_result"
    }
   ],
   "source": [
    "#Element of row no.7 and column no.7\n",
    "puzzle1[7][8]"
   ]
  },
  {
   "cell_type": "markdown",
   "metadata": {},
   "source": [
    "Like the unsolved puzzle, the solved Sudoku can also be represented as a list of lists. Here's the solution to the above puzzle:\n",
    "\n",
    "\n",
    "QUESTION 1: Represent the above solved Sudoku using a list of lists, in a similar fashion as the unsolved Sudoku."
   ]
  },
  {
   "cell_type": "code",
   "execution_count": 10,
   "metadata": {},
   "outputs": [],
   "source": [
    "solution1 = [[5, 3, 4, 6, 7, 8, 9, 1, 2],\n",
    "             [6, 7, 2, 1, 9, 5, 3, 4, 8],\n",
    "             [1, 9, 8, 3, 4, 2, 5, 6, 7],\n",
    "             [8, 5, 9, 7, 6, 1, 4, 2, 3],\n",
    "             [4, 2, 6, 8, 5, 3, 7, 9, 1],\n",
    "             [7, 1, 3, 9, 2, 4, 8, 5, 6],\n",
    "             [9, 6, 1, 5, 3, 7, 2, 8, 4],\n",
    "             [2, 8, 7, 4, 1, 9, 6, 3, 5],\n",
    "             [3, 4, 5, 2, 8, 6, 1, 7, 9]]"
   ]
  },
  {
   "cell_type": "code",
   "execution_count": 11,
   "metadata": {},
   "outputs": [
    {
     "data": {
      "text/plain": [
       "[[5, 3, 4, 6, 7, 8, 9, 1, 2],\n",
       " [6, 7, 2, 1, 9, 5, 3, 4, 8],\n",
       " [1, 9, 8, 3, 4, 2, 5, 6, 7],\n",
       " [8, 5, 9, 7, 6, 1, 4, 2, 3],\n",
       " [4, 2, 6, 8, 5, 3, 7, 9, 1],\n",
       " [7, 1, 3, 9, 2, 4, 8, 5, 6],\n",
       " [9, 6, 1, 5, 3, 7, 2, 8, 4],\n",
       " [2, 8, 7, 4, 1, 9, 6, 3, 5],\n",
       " [3, 4, 5, 2, 8, 6, 1, 7, 9]]"
      ]
     },
     "execution_count": 11,
     "metadata": {},
     "output_type": "execute_result"
    }
   ],
   "source": [
    "solution1"
   ]
  },
  {
   "cell_type": "markdown",
   "metadata": {},
   "source": [
    "The following cell should output True if your definition of solution1 is correct."
   ]
  },
  {
   "cell_type": "code",
   "execution_count": 12,
   "metadata": {},
   "outputs": [
    {
     "data": {
      "text/plain": [
       "True"
      ]
     },
     "execution_count": 12,
     "metadata": {},
     "output_type": "execute_result"
    }
   ],
   "source": [
    "len(solution1) == 9 and len(solution1[0]) == 9"
   ]
  },
  {
   "cell_type": "markdown",
   "metadata": {},
   "source": [
    "QUESTION 2: Retrieve row no. 3 of the solution (counting from 0) using the list indexing notation."
   ]
  },
  {
   "cell_type": "code",
   "execution_count": 13,
   "metadata": {},
   "outputs": [],
   "source": [
    "val_4_5 = solution1[4][5]"
   ]
  },
  {
   "cell_type": "code",
   "execution_count": 14,
   "metadata": {},
   "outputs": [
    {
     "data": {
      "text/plain": [
       "3"
      ]
     },
     "execution_count": 14,
     "metadata": {},
     "output_type": "execute_result"
    }
   ],
   "source": [
    "val_4_5"
   ]
  },
  {
   "cell_type": "markdown",
   "metadata": {},
   "source": [
    "\n",
    "The following cell should output True if your definition of solution1 is correct."
   ]
  },
  {
   "cell_type": "code",
   "execution_count": 15,
   "metadata": {},
   "outputs": [
    {
     "data": {
      "text/plain": [
       "True"
      ]
     },
     "execution_count": 15,
     "metadata": {},
     "output_type": "execute_result"
    }
   ],
   "source": [
    "val_4_5 == 3"
   ]
  },
  {
   "cell_type": "markdown",
   "metadata": {},
   "source": [
    "QUESTION 4: Retrieve the value in the last row and column no. 0 of the solution (counting from 0)."
   ]
  },
  {
   "cell_type": "code",
   "execution_count": 16,
   "metadata": {},
   "outputs": [],
   "source": [
    "val_last_zero = solution1[8][0]"
   ]
  },
  {
   "cell_type": "code",
   "execution_count": 17,
   "metadata": {},
   "outputs": [
    {
     "data": {
      "text/plain": [
       "3"
      ]
     },
     "execution_count": 17,
     "metadata": {},
     "output_type": "execute_result"
    }
   ],
   "source": [
    "val_last_zero"
   ]
  },
  {
   "cell_type": "markdown",
   "metadata": {},
   "source": [
    "\n",
    "The following cell should output True if your definition of solution1 is correct."
   ]
  },
  {
   "cell_type": "code",
   "execution_count": 18,
   "metadata": {},
   "outputs": [
    {
     "data": {
      "text/plain": [
       "True"
      ]
     },
     "execution_count": 18,
     "metadata": {},
     "output_type": "execute_result"
    }
   ],
   "source": [
    "val_last_zero == 3"
   ]
  },
  {
   "cell_type": "markdown",
   "metadata": {},
   "source": [
    "2. Extracting Rows, Columns and Boxes\n",
    "Before we can solve a Sudoku, we'll need a way to extract specific rows, columns and boxes from the Sudoku. We'll create a helper function for each of these.\n",
    "\n",
    "Rows\n",
    "\n",
    "QUESTION 5: Write a function to extract row no. k (counting from 0) of a Sudoku as a list of numbers. Rows are numbered 0 to 8, starting from the top. E.g. row no. 2 above is [0, 9, 8, 0, 0, 0, 0, 6, 0]."
   ]
  },
  {
   "cell_type": "code",
   "execution_count": 19,
   "metadata": {},
   "outputs": [],
   "source": [
    "def get_row(sudoku, k):\n",
    "    return sudoku[k]"
   ]
  },
  {
   "cell_type": "code",
   "execution_count": 20,
   "metadata": {},
   "outputs": [
    {
     "data": {
      "text/plain": [
       "[8, 0, 0, 0, 6, 0, 0, 0, 3]"
      ]
     },
     "execution_count": 20,
     "metadata": {},
     "output_type": "execute_result"
    }
   ],
   "source": [
    "get_row(puzzle1,3)"
   ]
  },
  {
   "cell_type": "markdown",
   "metadata": {},
   "source": [
    "The following cell should output True if your definition is correct."
   ]
  },
  {
   "cell_type": "code",
   "execution_count": 21,
   "metadata": {},
   "outputs": [
    {
     "data": {
      "text/plain": [
       "True"
      ]
     },
     "execution_count": 21,
     "metadata": {},
     "output_type": "execute_result"
    }
   ],
   "source": [
    "get_row(solution1, 3) == [8, 5, 9, 7, 6, 1, 4, 2, 3]"
   ]
  },
  {
   "cell_type": "markdown",
   "metadata": {},
   "source": [
    "\n",
    "You can use the cells below to test your implementation with a few more cases."
   ]
  },
  {
   "cell_type": "code",
   "execution_count": 22,
   "metadata": {},
   "outputs": [
    {
     "data": {
      "text/plain": [
       "[0, 0, 0, 4, 1, 9, 0, 0, 5]"
      ]
     },
     "execution_count": 22,
     "metadata": {},
     "output_type": "execute_result"
    }
   ],
   "source": [
    " get_row(puzzle1,7)"
   ]
  },
  {
   "cell_type": "markdown",
   "metadata": {},
   "source": [
    "QUESTION 6: Write a function to extract column no. k of a Sudoku as a list of numbers. Columns are numbered 0 to 8 starting from the left. E.g. column no. 4 above is [7, 9, 0, 6, 0, 2, 0, 1, 8].\n",
    "\n",
    "Hint: Use a for loop or list comprehension to get the k-th element of each row."
   ]
  },
  {
   "cell_type": "code",
   "execution_count": 23,
   "metadata": {},
   "outputs": [],
   "source": [
    "def get_col(sudoku, k):\n",
    "    result=[]\n",
    "    for i in range(0,9):\n",
    "        result.append(sudoku[i][k])\n",
    "    return result"
   ]
  },
  {
   "cell_type": "code",
   "execution_count": 24,
   "metadata": {},
   "outputs": [
    {
     "data": {
      "text/plain": [
       "[0, 0, 6, 0, 0, 0, 8, 0, 7]"
      ]
     },
     "execution_count": 24,
     "metadata": {},
     "output_type": "execute_result"
    }
   ],
   "source": [
    "get_col(puzzle1, 7)"
   ]
  },
  {
   "cell_type": "code",
   "execution_count": 25,
   "metadata": {},
   "outputs": [
    {
     "data": {
      "text/plain": [
       "[8, 5, 2, 1, 3, 4, 7, 9, 6]"
      ]
     },
     "execution_count": 25,
     "metadata": {},
     "output_type": "execute_result"
    }
   ],
   "source": [
    "get_col(solution1, 5)"
   ]
  },
  {
   "cell_type": "markdown",
   "metadata": {},
   "source": [
    "The following cell should output True if your implementation is correct."
   ]
  },
  {
   "cell_type": "code",
   "execution_count": 26,
   "metadata": {},
   "outputs": [
    {
     "data": {
      "text/plain": [
       "True"
      ]
     },
     "execution_count": 26,
     "metadata": {},
     "output_type": "execute_result"
    }
   ],
   "source": [
    "get_col(solution1, 5) == [8, 5, 2, 1, 3, 4, 7, 9, 6]"
   ]
  },
  {
   "cell_type": "markdown",
   "metadata": {},
   "source": [
    "QUESTION 7: Each 3x3 subgrid of the Sudoku is called a box. Write a function to extract the box no. k of a Sudoku as a list of numbers. Boxes are numbered from 0 to 8 as shown above. The numbers in a box are represented as a list, going from left to right and top to bottom. E.g. box no. 0 above is [5, 3, 0, 6, 0, 0, 0, 9, 8].\n",
    "\n",
    "Hint: Use if-elif-else statements to select the starting index of the box and list concatenation to join the 3 rows in a box into a single row."
   ]
  },
  {
   "cell_type": "code",
   "execution_count": 32,
   "metadata": {},
   "outputs": [],
   "source": [
    "\n",
    "def get_box(sudoku, k):\n",
    "    if k ==0:\n",
    "        return sudoku[0][0:3]+ sudoku[1][0:3]+sudoku[2][0:3]\n",
    "    elif k==1:\n",
    "        return sudoku[0][3:6]+ sudoku[1][3:6]+sudoku[2][3:6]\n",
    "    elif k ==2:\n",
    "        return sudoku[0][6:9]+ sudoku[1][6:9]+sudoku[2][6:9]\n",
    "    elif k ==3:\n",
    "        return sudoku[3][0:3]+ sudoku[4][0:3]+sudoku[5][0:3]\n",
    "    elif k ==4:\n",
    "        return sudoku[3][3:6]+ sudoku[4][3:6]+sudoku[5][3:6]\n",
    "    elif k ==5:\n",
    "        return sudoku[3][6:9]+ sudoku[4][6:9]+sudoku[5][6:9]\n",
    "    elif k ==6:\n",
    "        return sudoku[6][0:3]+ sudoku[7][0:3]+sudoku[8][0:3]\n",
    "    elif k ==7:\n",
    "        return sudoku[6][3:6]+ sudoku[7][3:6]+sudoku[8][3:6]\n",
    "    elif k ==8:\n",
    "        return sudoku[6][6:9]+ sudoku[7][6:9]+sudoku[8][6:9]"
   ]
  },
  {
   "cell_type": "code",
   "execution_count": 28,
   "metadata": {},
   "outputs": [
    {
     "data": {
      "text/plain": [
       "[5, 3, 0, 6, 0, 0, 0, 9, 8]"
      ]
     },
     "execution_count": 28,
     "metadata": {},
     "output_type": "execute_result"
    }
   ],
   "source": [
    "get_box(puzzle1, 0)"
   ]
  },
  {
   "cell_type": "code",
   "execution_count": 29,
   "metadata": {},
   "outputs": [
    {
     "data": {
      "text/plain": [
       "[0, 0, 0, 4, 1, 9, 0, 8, 0]"
      ]
     },
     "execution_count": 29,
     "metadata": {},
     "output_type": "execute_result"
    }
   ],
   "source": [
    "get_box(puzzle1, 7)"
   ]
  },
  {
   "cell_type": "code",
   "execution_count": 30,
   "metadata": {},
   "outputs": [
    {
     "data": {
      "text/plain": [
       "True"
      ]
     },
     "execution_count": 30,
     "metadata": {},
     "output_type": "execute_result"
    }
   ],
   "source": [
    "get_box(solution1, 7) == [5, 3, 7, 4, 1, 9, 2, 8, 6]"
   ]
  },
  {
   "cell_type": "markdown",
   "metadata": {},
   "source": [
    "First Empty Position\n",
    "To start filling the Sudoku, we need to find an empty position to fill.\n",
    "\n",
    "QUESTION 8: Write a function which finds the row & column index of the first empty position (indicated by 0) within a Sudoku. If the row no. i and column no. j column is the first empty position, the function should return the tuple i, j. If there are no empty positions, return None, None."
   ]
  },
  {
   "cell_type": "code",
   "execution_count": 31,
   "metadata": {},
   "outputs": [],
   "source": [
    "def first_empty_position(sudoku):\n",
    "    for i in range(9):\n",
    "        for j in range(9):\n",
    "            if sudoku[i][j]==0:\n",
    "                return i,j\n",
    "        \n",
    "    return None,None  "
   ]
  },
  {
   "cell_type": "code",
   "execution_count": 33,
   "metadata": {},
   "outputs": [
    {
     "data": {
      "text/plain": [
       "(0, 2)"
      ]
     },
     "execution_count": 33,
     "metadata": {},
     "output_type": "execute_result"
    }
   ],
   "source": [
    "first_empty_position(puzzle1)"
   ]
  },
  {
   "cell_type": "code",
   "execution_count": 34,
   "metadata": {},
   "outputs": [
    {
     "name": "stdout",
     "output_type": "stream",
     "text": [
      "(None, None)\n"
     ]
    }
   ],
   "source": [
    "print(first_empty_position(solution1))"
   ]
  },
  {
   "cell_type": "markdown",
   "metadata": {},
   "source": [
    "If your implementation is correct, the following cell should return True."
   ]
  },
  {
   "cell_type": "code",
   "execution_count": 35,
   "metadata": {},
   "outputs": [
    {
     "data": {
      "text/plain": [
       "True"
      ]
     },
     "execution_count": 35,
     "metadata": {},
     "output_type": "execute_result"
    }
   ],
   "source": [
    "\n",
    "first_empty_position(puzzle1) == (0, 2)"
   ]
  },
  {
   "cell_type": "code",
   "execution_count": 36,
   "metadata": {},
   "outputs": [
    {
     "data": {
      "text/plain": [
       "True"
      ]
     },
     "execution_count": 36,
     "metadata": {},
     "output_type": "execute_result"
    }
   ],
   "source": [
    "first_empty_position(solution1) == (None, None)"
   ]
  },
  {
   "cell_type": "markdown",
   "metadata": {},
   "source": [
    "3. Sudoku Validations\n",
    "Valid Sudoku\n",
    "A Sudoku puzzle is valid if none of the rows, columns, or boxes contains repeating digits. For example, if a row of a Sudoku contains the number 5 twice, then the Sudoku puzzle is invalid and can't be solved. The same holds true for columns and boxes.\n",
    "\n",
    "\n",
    "\n",
    "First, we'll create a helper function to check if a row/column/box in a Sudoku is valid.\n",
    "\n",
    "QUESTION 9: Write a function to check if a list of 9 numbers (containing digits from 1 to 9 and 0s to indicate blank spaces) is a valid section (row, column or box) for a Sudoku. Only 0 can occur more than once, the numbers 1 to 9 can occur at most once. Your function should return True if the section is valid and False otherwise."
   ]
  },
  {
   "cell_type": "code",
   "execution_count": 37,
   "metadata": {},
   "outputs": [],
   "source": [
    "def is_section_valid(nums):\n",
    "    for x in range(1,10):\n",
    "        if nums.count(x) >1:\n",
    "            return False\n",
    "   \n",
    "    return True"
   ]
  },
  {
   "cell_type": "code",
   "execution_count": 38,
   "metadata": {},
   "outputs": [
    {
     "data": {
      "text/plain": [
       "True"
      ]
     },
     "execution_count": 38,
     "metadata": {},
     "output_type": "execute_result"
    }
   ],
   "source": [
    "# should return True\n",
    "is_section_valid([5, 3, 7, 4, 1, 9, 2, 8, 6])"
   ]
  },
  {
   "cell_type": "code",
   "execution_count": 39,
   "metadata": {},
   "outputs": [
    {
     "data": {
      "text/plain": [
       "True"
      ]
     },
     "execution_count": 39,
     "metadata": {},
     "output_type": "execute_result"
    }
   ],
   "source": [
    "# should return True\n",
    "is_section_valid([5, 3, 0, 6, 0, 0, 0, 9, 8])"
   ]
  },
  {
   "cell_type": "code",
   "execution_count": 40,
   "metadata": {},
   "outputs": [
    {
     "data": {
      "text/plain": [
       "False"
      ]
     },
     "execution_count": 40,
     "metadata": {},
     "output_type": "execute_result"
    }
   ],
   "source": [
    "# should return False\n",
    "is_section_valid([5, 3, 0, 6, 0, 8, 0, 9, 8])"
   ]
  },
  {
   "cell_type": "markdown",
   "metadata": {},
   "source": [
    "We can now use the is_section_valid function to check if each row, column and box is valid. Rows, columns and boxes are retrieved using the get_row, get_column and get_box functions defined earlier.\n",
    "\n",
    "Let's create a function is_sudoku_valid to bring it all together."
   ]
  },
  {
   "cell_type": "code",
   "execution_count": 41,
   "metadata": {},
   "outputs": [],
   "source": [
    "def is_sudoku_valid(sudoku):\n",
    "    rows_valid = all([is_section_valid(get_row(sudoku, i)) for i in range(0, 9)])\n",
    "    cols_valid = all([is_section_valid(get_col(sudoku, i)) for i in range(0, 9)])\n",
    "    boxes_valid = all([is_section_valid(get_box(sudoku, i)) for i in range(0, 9)])\n",
    "    return rows_valid and cols_valid and boxes_valid"
   ]
  },
  {
   "cell_type": "code",
   "execution_count": 42,
   "metadata": {},
   "outputs": [],
   "source": [
    "# Valid Puzzle\n",
    "puzzle2 = [[5, 3, 0, 0, 7, 0, 0, 0, 0], \n",
    "           [6, 0, 0, 1, 9, 5, 0, 0, 0], \n",
    "           [0, 9, 8, 0, 4, 0, 0, 6, 0], \n",
    "           [8, 0, 0, 0, 6, 0, 0, 0, 3],\n",
    "           [4, 0, 0, 8, 0, 3, 0, 0, 1],\n",
    "           [7, 0, 0, 0, 2, 0, 0, 0, 6],\n",
    "           [0, 6, 0, 0, 0, 0, 2, 8, 0],\n",
    "           [0, 0, 0, 4, 1, 9, 0, 0, 5],\n",
    "           [0, 0, 0, 0, 8, 0, 0, 7, 9]]"
   ]
  },
  {
   "cell_type": "code",
   "execution_count": 43,
   "metadata": {},
   "outputs": [],
   "source": [
    "# Invalid Puzzle\n",
    "puzzle2 = [[5, 3, 0, 0, 7, 0, 0, 0, 0], \n",
    "           [6, 0, 0, 1, 9, 5, 0, 0, 0], \n",
    "           [0, 9, 8, 0, 8, 0, 0, 6, 0], \n",
    "           [8, 0, 0, 0, 6, 0, 0, 0, 3],\n",
    "           [4, 0, 0, 8, 0, 3, 0, 0, 1],\n",
    "           [7, 0, 0, 0, 2, 0, 0, 0, 6],\n",
    "           [0, 6, 0, 0, 0, 0, 2, 8, 0],\n",
    "           [0, 0, 0, 4, 1, 9, 0, 0, 5],\n",
    "           [0, 0, 0, 0, 8, 0, 0, 7, 9]]"
   ]
  },
  {
   "cell_type": "markdown",
   "metadata": {},
   "source": [
    "Check your implementation by running the cells below."
   ]
  },
  {
   "cell_type": "code",
   "execution_count": 44,
   "metadata": {},
   "outputs": [
    {
     "data": {
      "text/plain": [
       "True"
      ]
     },
     "execution_count": 44,
     "metadata": {},
     "output_type": "execute_result"
    }
   ],
   "source": [
    "# should return True\n",
    "is_sudoku_valid(puzzle1)"
   ]
  },
  {
   "cell_type": "code",
   "execution_count": 45,
   "metadata": {},
   "outputs": [
    {
     "data": {
      "text/plain": [
       "False"
      ]
     },
     "execution_count": 45,
     "metadata": {},
     "output_type": "execute_result"
    }
   ],
   "source": [
    "# should return False\n",
    "is_sudoku_valid(puzzle2)"
   ]
  },
  {
   "cell_type": "markdown",
   "metadata": {},
   "source": [
    "Complete/Solved Sudoku\n",
    "Next, we need a way to check if a Sudoku is completely solved. This can be done by checking that each row, each column and each box in the Sudoku contains all the numbers from 1 to 9 exactly once.\n",
    "\n",
    "\n",
    "\n",
    "QUESTION 10: Write a function to check if a list of 9 numbers (containing digits from 1 to 9) represents a complete section (row, column or box) for a Sudoku. The list should contain all the numbers from 1 to 9 exactly once. Your function should return True if the section is complete and False otherwise."
   ]
  },
  {
   "cell_type": "code",
   "execution_count": 46,
   "metadata": {},
   "outputs": [],
   "source": [
    "def is_section_complete(nums):\n",
    "    for i in range(1,10):\n",
    "        if nums.count(i) !=1:\n",
    "            return False\n",
    "    return True"
   ]
  },
  {
   "cell_type": "code",
   "execution_count": 47,
   "metadata": {},
   "outputs": [
    {
     "data": {
      "text/plain": [
       "False"
      ]
     },
     "execution_count": 47,
     "metadata": {},
     "output_type": "execute_result"
    }
   ],
   "source": [
    "# should return False\n",
    "is_section_complete([0, 9, 8, 0, 0, 0, 0, 6, 0])"
   ]
  },
  {
   "cell_type": "code",
   "execution_count": 48,
   "metadata": {},
   "outputs": [
    {
     "data": {
      "text/plain": [
       "True"
      ]
     },
     "execution_count": 48,
     "metadata": {},
     "output_type": "execute_result"
    }
   ],
   "source": [
    "# should return True\n",
    "is_section_complete([1, 9, 8, 3, 4, 2, 5, 6, 7])"
   ]
  },
  {
   "cell_type": "markdown",
   "metadata": {},
   "source": [
    "We can now use the is_section_complete function to check if each row, column and box is complete. Rows, columns and boxes are retrieved using the get_row, get_column and get_box functions defined earlier.\n",
    "\n",
    "Let's create a function is_sudoku_complete to bring it all together and check if an entire Sudoku is complete/solved."
   ]
  },
  {
   "cell_type": "code",
   "execution_count": 49,
   "metadata": {},
   "outputs": [],
   "source": [
    "def is_sudoku_complete(sudoku):\n",
    "    rows_complete = all([is_section_complete(get_row(sudoku, i)) for i in range(0, 9)])\n",
    "    cols_complete = all([is_section_complete(get_col(sudoku, i)) for i in range(0, 9)])\n",
    "    boxes_complete = all([is_section_complete(get_box(sudoku, i)) for i in range(0, 9)])\n",
    "    return rows_complete and cols_complete and boxes_complete"
   ]
  },
  {
   "cell_type": "code",
   "execution_count": 50,
   "metadata": {},
   "outputs": [
    {
     "data": {
      "text/plain": [
       "False"
      ]
     },
     "execution_count": 50,
     "metadata": {},
     "output_type": "execute_result"
    }
   ],
   "source": [
    "# should return False\n",
    "is_sudoku_complete(puzzle1)"
   ]
  },
  {
   "cell_type": "code",
   "execution_count": 51,
   "metadata": {},
   "outputs": [
    {
     "data": {
      "text/plain": [
       "True"
      ]
     },
     "execution_count": 51,
     "metadata": {},
     "output_type": "execute_result"
    }
   ],
   "source": [
    "\n",
    "# should return True\n",
    "is_sudoku_complete(solution1)"
   ]
  },
  {
   "cell_type": "markdown",
   "metadata": {},
   "source": [
    "4. Recursive Solution\n",
    "Now we have all the components to start building our Sudoku solver. Our solver will follow the simple approach of trying all possible solutions for filling the blank spaces one by one, while making sure that the Sudoku remains valid.\n",
    "\n",
    "We'll use a technique called recursion, which is best understood by working backwards. Consider the following scenarios:\n",
    "\n",
    "No empty spaces: If a Sudoku has no empty spaces, then we can simply check if the Sudoku is already complete/solved using is_sudoku_complete. The Suduko is either already solved or invalid.\n",
    "\n",
    "1 empty space: If a Sudoku has just one empty space, we can try to insert each digit from 1 to 9 into the empty space, and verify which digit, if any, leads to a completed solved Sudoku.\n",
    "\n",
    "2 empty spaces: If a Sudoku has two empty spaces, we can try to insert each digit from 1 to 9 one-by-one into the first empty space, while making sure the Sudoku remains valid. For each valid attempt at inserting a number, the puzzle reduces to the previous problem of solving a Sudoku with just two empty spaces.\n",
    "\n",
    "3 empty spaces: If a Sudoku has three empty spaces, we can try to insert each digit from 1 to 9 one-by-one into the first empty space, while making sure the Sudoku remains valid. For each valid attempt at inserting a number, the puzzle reduces to the previous problem of solving a Sudoku with two empty spaces.\n",
    "\n",
    "and so on....\n",
    "\n",
    "n empty spaces: If a Sudokuk has n empty spaces, we can try to insert each digit from 1 to 9 one-by-one into the first empty space, while making sure the Sudoku remains valid. For each valid attempt at inserting a number, the puzzle reduces to the previous problem of solving a Sudoku with n-1 empty spaces.\n",
    "\n",
    "Here's a quick tutorial on recursion: https://youtu.be/wMNrSM5RFMc\n",
    "\n",
    "Let's define a helper function repeat to implement the above strategy for any number of empty spaces. The function repeat will attempt to fill the first empty space within a Sudoku and invoke itself to fill the remaining spaces recursively i.e. by invoking itself with a different input. The function will return True if it was able to fill all the spaces successfully, otherwise it will return False."
   ]
  },
  {
   "cell_type": "code",
   "execution_count": 52,
   "metadata": {},
   "outputs": [],
   "source": [
    "def repeat(sudoku):\n",
    "    # Check if Sudoku is already complete\n",
    "    if is_sudoku_complete(sudoku):\n",
    "        return True\n",
    "    \n",
    "    # Find the first empty position\n",
    "    i, j = first_empty_position(sudoku)\n",
    "    \n",
    "    # Try to fill it with numbers 1 to 9\n",
    "    for digit in range(1, 10):\n",
    "        \n",
    "        # Insert the digit into the right place\n",
    "        sudoku[i][j] = digit\n",
    "        \n",
    "        # Check if the new puzzle is valid\n",
    "        if is_sudoku_valid(sudoku):\n",
    "            \n",
    "            # Try to fill the remaining spaces recursively using `repeat`\n",
    "            # Node that this will directly fill values into the sudoku\n",
    "            result = repeat(sudoku)\n",
    "            \n",
    "            # If the recursive result is true, we have found the answer and filled the sudoku\n",
    "            if result is True:\n",
    "                return True\n",
    "        \n",
    "        \n",
    "        # Remove the digit, it doesn't lead to a solution\n",
    "        sudoku[i][j] = 0\n",
    "        \n",
    "    \n",
    "    # There are no valid numbers to fill the empty slot(s)\n",
    "    return False"
   ]
  },
  {
   "cell_type": "markdown",
   "metadata": {},
   "source": [
    "Note that repeat directly makes changes inside the puzzle passed to it, so it does not need to return the puzzle itself. Do you see how repeat works? Here's a visualization of the process for a 4x4 sudoku (4 rows, columns & boxes instead of 9):\n",
    "\n",
    "\n",
    "\n",
    "Finally, we can create a solve_sudoku function which uses repeat to solve a Sudoku and returns the solved version (or None if the Sudoku is unsolvable)."
   ]
  },
  {
   "cell_type": "code",
   "execution_count": 53,
   "metadata": {},
   "outputs": [],
   "source": [
    "import copy\n",
    "\n",
    "def solve_sudoku(sudoku):\n",
    "    # Create a deep copy of the puzzle (list of lists),\n",
    "    # to avoid modifying the original\n",
    "    copied_sudoku = copy.deepcopy(sudoku)\n",
    "    \n",
    "    # Try to complete the Sudoku using repeat\n",
    "    result = repeat(copied_sudoku)\n",
    "    \n",
    "    # Return the solved version if successful\n",
    "    if result is True:\n",
    "        return copied_sudoku\n",
    "    \n",
    "    # Return None if unsuccessful\n",
    "    return None"
   ]
  },
  {
   "cell_type": "code",
   "execution_count": 54,
   "metadata": {},
   "outputs": [
    {
     "data": {
      "text/plain": [
       "[[5, 3, 0, 0, 7, 0, 0, 0, 0],\n",
       " [6, 0, 0, 1, 9, 5, 0, 0, 0],\n",
       " [0, 9, 8, 0, 0, 0, 0, 6, 0],\n",
       " [8, 0, 0, 0, 6, 0, 0, 0, 3],\n",
       " [4, 0, 0, 8, 0, 3, 0, 0, 1],\n",
       " [7, 0, 0, 0, 2, 0, 0, 0, 6],\n",
       " [0, 6, 0, 0, 0, 0, 2, 8, 0],\n",
       " [0, 0, 0, 4, 1, 9, 0, 0, 5],\n",
       " [0, 0, 0, 0, 8, 0, 0, 7, 9]]"
      ]
     },
     "execution_count": 54,
     "metadata": {},
     "output_type": "execute_result"
    }
   ],
   "source": [
    "puzzle1"
   ]
  },
  {
   "cell_type": "code",
   "execution_count": 55,
   "metadata": {},
   "outputs": [
    {
     "name": "stdout",
     "output_type": "stream",
     "text": [
      "CPU times: user 2.38 s, sys: 0 ns, total: 2.38 s\n",
      "Wall time: 2.38 s\n"
     ]
    },
    {
     "data": {
      "text/plain": [
       "[[5, 3, 4, 6, 7, 8, 9, 1, 2],\n",
       " [6, 7, 2, 1, 9, 5, 3, 4, 8],\n",
       " [1, 9, 8, 3, 4, 2, 5, 6, 7],\n",
       " [8, 5, 9, 7, 6, 1, 4, 2, 3],\n",
       " [4, 2, 6, 8, 5, 3, 7, 9, 1],\n",
       " [7, 1, 3, 9, 2, 4, 8, 5, 6],\n",
       " [9, 6, 1, 5, 3, 7, 2, 8, 4],\n",
       " [2, 8, 7, 4, 1, 9, 6, 3, 5],\n",
       " [3, 4, 5, 2, 8, 6, 1, 7, 9]]"
      ]
     },
     "execution_count": 55,
     "metadata": {},
     "output_type": "execute_result"
    }
   ],
   "source": [
    "%%time\n",
    "puzzle1_solved = solve_sudoku(puzzle1)\n",
    "puzzle1_solved"
   ]
  },
  {
   "cell_type": "code",
   "execution_count": 56,
   "metadata": {},
   "outputs": [
    {
     "data": {
      "text/plain": [
       "[[5, 3, 4, 6, 7, 8, 9, 1, 2],\n",
       " [6, 7, 2, 1, 9, 5, 3, 4, 8],\n",
       " [1, 9, 8, 3, 4, 2, 5, 6, 7],\n",
       " [8, 5, 9, 7, 6, 1, 4, 2, 3],\n",
       " [4, 2, 6, 8, 5, 3, 7, 9, 1],\n",
       " [7, 1, 3, 9, 2, 4, 8, 5, 6],\n",
       " [9, 6, 1, 5, 3, 7, 2, 8, 4],\n",
       " [2, 8, 7, 4, 1, 9, 6, 3, 5],\n",
       " [3, 4, 5, 2, 8, 6, 1, 7, 9]]"
      ]
     },
     "execution_count": 56,
     "metadata": {},
     "output_type": "execute_result"
    }
   ],
   "source": [
    "solution1"
   ]
  },
  {
   "cell_type": "code",
   "execution_count": 57,
   "metadata": {},
   "outputs": [
    {
     "data": {
      "text/plain": [
       "True"
      ]
     },
     "execution_count": 57,
     "metadata": {},
     "output_type": "execute_result"
    }
   ],
   "source": [
    "puzzle1_solved == solution1"
   ]
  }
 ],
 "metadata": {
  "language_info": {
   "codemirror_mode": {
    "name": "ipython",
    "version": 3
   },
   "file_extension": ".py",
   "mimetype": "text/x-python",
   "name": "python",
   "nbconvert_exporter": "python",
   "pygments_lexer": "ipython3",
   "version": "3.9.7"
  }
 },
 "nbformat": 4,
 "nbformat_minor": 2
}